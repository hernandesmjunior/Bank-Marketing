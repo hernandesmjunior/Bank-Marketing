{
 "cells": [
  {
   "cell_type": "markdown",
   "id": "f6c2d84b",
   "metadata": {},
   "source": [
    "# PROJETO BANK MARKETING STRATEGY"
   ]
  },
  {
   "cell_type": "markdown",
   "id": "07ef5a89",
   "metadata": {},
   "source": [
    "## INPUT"
   ]
  },
  {
   "cell_type": "markdown",
   "id": "090a3754",
   "metadata": {},
   "source": [
    "Você foi contratado como um cientista de dados consultor, para criar um produto de dados que cria uma segmentação de clientes que direcionará a estratégia de marketing e os resultados esperados do seu trabalho de consultoria, são os seguintes:\n",
    "\n",
    "1. Criar uma segmentação de clientes baseado em critérios claros de seleção.\n",
    "2. Tornar a segmentação de clientes acessível para o time de operações.\n",
    "3. Ensinar o time de operações sobre como usar a sua solução.\n",
    "4. Transferir o conhecimento para os Cientistas de Dados da International Bank.\n",
    "5. Recomendar 2-3 alavancas de negócio para cada segmento de clientes."
   ]
  },
  {
   "cell_type": "markdown",
   "id": "df4423e9",
   "metadata": {},
   "source": [
    "## OUTPUT"
   ]
  },
  {
   "cell_type": "markdown",
   "id": "053ad0c0",
   "metadata": {},
   "source": [
    "Painel de PowerBI"
   ]
  },
  {
   "cell_type": "markdown",
   "id": "42847ec5",
   "metadata": {},
   "source": [
    "## TASKS"
   ]
  },
  {
   "cell_type": "markdown",
   "id": "5953954c",
   "metadata": {},
   "source": [
    "Descrição dos dados\n",
    "- Substituição de NA's\n",
    "\n",
    "EDA\n",
    "- Análise Univariada \n",
    "- Análise Bivariada\n",
    "- Detecação de outliers\n",
    "- Seleção de Features\n",
    "- Estudo do EspaçoDefinição do Embedding\n",
    "\n",
    "Treinamento dos algoritmos de ML.\n",
    "- Análise de Performance\n",
    "- Análise de Clustering\n",
    "- Definição dos número de clustering.\n",
    "\n",
    "Insights\n",
    "- Explicação das características dos segmentos\n",
    "\n",
    "\n",
    "Arquitetura da AWS.\n",
    "- S3 para armazenar os dados\n",
    "- EC2 para armazenar o ETL e a ferramenta de visualização.\n",
    "- DB para armazenar a tabela\n",
    "- Cronjob\n",
    "- Papermill\n"
   ]
  },
  {
   "cell_type": "markdown",
   "id": "1556eef5",
   "metadata": {},
   "source": [
    "# 0.0 IMPORTS"
   ]
  },
  {
   "cell_type": "markdown",
   "id": "617c62a9",
   "metadata": {},
   "source": [
    "# 1.0 DESCRIÇÃO DOS DADOS"
   ]
  },
  {
   "cell_type": "markdown",
   "id": "f38500e7",
   "metadata": {},
   "source": [
    "# 2.0 DATA FILTERING"
   ]
  },
  {
   "cell_type": "markdown",
   "id": "c1dbcb1f",
   "metadata": {},
   "source": [
    "# 3.0 FEATURE ENGINEERING"
   ]
  },
  {
   "cell_type": "markdown",
   "id": "7ef9cadd",
   "metadata": {},
   "source": [
    "# 4.0 EDA - SPACE STUDY"
   ]
  },
  {
   "cell_type": "markdown",
   "id": "7da7c047",
   "metadata": {},
   "source": [
    "# 5.0 DATA PREPARATION"
   ]
  },
  {
   "cell_type": "markdown",
   "id": "277b8d9b",
   "metadata": {},
   "source": [
    "# 6.0 FEATURE SELECTION"
   ]
  },
  {
   "cell_type": "markdown",
   "id": "a89a09ea",
   "metadata": {},
   "source": [
    "# 7.0 HYPERPARAMETER FINE TUNING"
   ]
  },
  {
   "cell_type": "markdown",
   "id": "88e5c0a3",
   "metadata": {},
   "source": [
    "# 8.0 MACHINE LEARNING TRAINING"
   ]
  },
  {
   "cell_type": "markdown",
   "id": "504c2c94",
   "metadata": {},
   "source": [
    "# 9.0 CLUSTERING ANALYSIS"
   ]
  },
  {
   "cell_type": "markdown",
   "id": "7bd3b534",
   "metadata": {},
   "source": [
    "# 10.0 EDA - INSIGHT REPORTS"
   ]
  },
  {
   "cell_type": "markdown",
   "id": "1f3d4d9d",
   "metadata": {},
   "source": [
    "# 11.0 DEPLOY TO PRODUCTION"
   ]
  }
 ],
 "metadata": {
  "kernelspec": {
   "display_name": "Python 3 (ipykernel)",
   "language": "python",
   "name": "python3"
  },
  "language_info": {
   "codemirror_mode": {
    "name": "ipython",
    "version": 3
   },
   "file_extension": ".py",
   "mimetype": "text/x-python",
   "name": "python",
   "nbconvert_exporter": "python",
   "pygments_lexer": "ipython3",
   "version": "3.8.12"
  }
 },
 "nbformat": 4,
 "nbformat_minor": 5
}
