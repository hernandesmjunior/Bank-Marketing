{
 "cells": [
  {
   "cell_type": "markdown",
   "id": "f6c2d84b",
   "metadata": {},
   "source": [
    "# PROJETO BANK MARKETING STRATEGY"
   ]
  },
  {
   "cell_type": "markdown",
   "id": "07ef5a89",
   "metadata": {
    "heading_collapsed": true
   },
   "source": [
    "## INPUT"
   ]
  },
  {
   "cell_type": "markdown",
   "id": "090a3754",
   "metadata": {
    "hidden": true
   },
   "source": [
    "Você foi contratado como um cientista de dados consultor, para criar um produto de dados que cria uma segmentação de clientes que direcionará a estratégia de marketing e os resultados esperados do seu trabalho de consultoria, são os seguintes:\n",
    "\n",
    "1. Criar uma segmentação de clientes baseado em critérios claros de seleção.\n",
    "2. Tornar a segmentação de clientes acessível para o time de operações.\n",
    "3. Ensinar o time de operações sobre como usar a sua solução.\n",
    "4. Transferir o conhecimento para os Cientistas de Dados da International Bank.\n",
    "5. Recomendar 2-3 alavancas de negócio para cada segmento de clientes."
   ]
  },
  {
   "cell_type": "markdown",
   "id": "df4423e9",
   "metadata": {
    "heading_collapsed": true
   },
   "source": [
    "## OUTPUT"
   ]
  },
  {
   "cell_type": "markdown",
   "id": "053ad0c0",
   "metadata": {
    "hidden": true
   },
   "source": [
    "Painel de PowerBI"
   ]
  },
  {
   "cell_type": "markdown",
   "id": "42847ec5",
   "metadata": {
    "heading_collapsed": true
   },
   "source": [
    "## TASKS"
   ]
  },
  {
   "cell_type": "markdown",
   "id": "5953954c",
   "metadata": {
    "hidden": true
   },
   "source": [
    "Descrição dos dados\n",
    "- Substituição de NA's\n",
    "\n",
    "EDA\n",
    "- Análise Univariada \n",
    "- Análise Bivariada\n",
    "- Detecação de outliers\n",
    "- Seleção de Features\n",
    "- Estudo do EspaçoDefinição do Embedding\n",
    "\n",
    "Treinamento dos algoritmos de ML.\n",
    "- Análise de Performance\n",
    "- Análise de Clustering\n",
    "- Definição dos número de clustering.\n",
    "\n",
    "Insights\n",
    "- Explicação das características dos segmentos\n",
    "\n",
    "\n",
    "Arquitetura da AWS.\n",
    "- S3 para armazenar os dados\n",
    "- EC2 para armazenar o ETL e a ferramenta de visualização.\n",
    "- DB para armazenar a tabela\n",
    "- Cronjob\n",
    "- Papermill\n"
   ]
  },
  {
   "cell_type": "markdown",
   "id": "1556eef5",
   "metadata": {},
   "source": [
    "# 0.0 IMPORTS"
   ]
  },
  {
   "cell_type": "code",
   "execution_count": 1,
   "id": "c4d990cd",
   "metadata": {},
   "outputs": [],
   "source": [
    "import pandas as pd\n",
    "import numpy as np\n",
    "import matplotlib.pyplot as plt\n",
    "import seaborn as sns\n",
    "\n",
    "from sklearn import cluster as c\n",
    "from sklearn import metrics as m\n",
    "\n",
    "sns.set()"
   ]
  },
  {
   "cell_type": "code",
   "execution_count": 2,
   "id": "9cc8724b",
   "metadata": {},
   "outputs": [],
   "source": [
    "df_raw = pd.read_csv('Data/CC GENERAL.csv')"
   ]
  },
  {
   "cell_type": "code",
   "execution_count": 3,
   "id": "a058f74f",
   "metadata": {},
   "outputs": [
    {
     "data": {
      "text/html": [
       "<div>\n",
       "<style scoped>\n",
       "    .dataframe tbody tr th:only-of-type {\n",
       "        vertical-align: middle;\n",
       "    }\n",
       "\n",
       "    .dataframe tbody tr th {\n",
       "        vertical-align: top;\n",
       "    }\n",
       "\n",
       "    .dataframe thead th {\n",
       "        text-align: right;\n",
       "    }\n",
       "</style>\n",
       "<table border=\"1\" class=\"dataframe\">\n",
       "  <thead>\n",
       "    <tr style=\"text-align: right;\">\n",
       "      <th></th>\n",
       "      <th>CUST_ID</th>\n",
       "      <th>BALANCE</th>\n",
       "      <th>BALANCE_FREQUENCY</th>\n",
       "      <th>PURCHASES</th>\n",
       "      <th>ONEOFF_PURCHASES</th>\n",
       "      <th>INSTALLMENTS_PURCHASES</th>\n",
       "      <th>CASH_ADVANCE</th>\n",
       "      <th>PURCHASES_FREQUENCY</th>\n",
       "      <th>ONEOFF_PURCHASES_FREQUENCY</th>\n",
       "      <th>PURCHASES_INSTALLMENTS_FREQUENCY</th>\n",
       "      <th>CASH_ADVANCE_FREQUENCY</th>\n",
       "      <th>CASH_ADVANCE_TRX</th>\n",
       "      <th>PURCHASES_TRX</th>\n",
       "      <th>CREDIT_LIMIT</th>\n",
       "      <th>PAYMENTS</th>\n",
       "      <th>MINIMUM_PAYMENTS</th>\n",
       "      <th>PRC_FULL_PAYMENT</th>\n",
       "      <th>TENURE</th>\n",
       "    </tr>\n",
       "  </thead>\n",
       "  <tbody>\n",
       "    <tr>\n",
       "      <th>0</th>\n",
       "      <td>C10001</td>\n",
       "      <td>40.900749</td>\n",
       "      <td>0.818182</td>\n",
       "      <td>95.40</td>\n",
       "      <td>0.00</td>\n",
       "      <td>95.4</td>\n",
       "      <td>0.000000</td>\n",
       "      <td>0.166667</td>\n",
       "      <td>0.000000</td>\n",
       "      <td>0.083333</td>\n",
       "      <td>0.000000</td>\n",
       "      <td>0</td>\n",
       "      <td>2</td>\n",
       "      <td>1000.0</td>\n",
       "      <td>201.802084</td>\n",
       "      <td>139.509787</td>\n",
       "      <td>0.000000</td>\n",
       "      <td>12</td>\n",
       "    </tr>\n",
       "    <tr>\n",
       "      <th>1</th>\n",
       "      <td>C10002</td>\n",
       "      <td>3202.467416</td>\n",
       "      <td>0.909091</td>\n",
       "      <td>0.00</td>\n",
       "      <td>0.00</td>\n",
       "      <td>0.0</td>\n",
       "      <td>6442.945483</td>\n",
       "      <td>0.000000</td>\n",
       "      <td>0.000000</td>\n",
       "      <td>0.000000</td>\n",
       "      <td>0.250000</td>\n",
       "      <td>4</td>\n",
       "      <td>0</td>\n",
       "      <td>7000.0</td>\n",
       "      <td>4103.032597</td>\n",
       "      <td>1072.340217</td>\n",
       "      <td>0.222222</td>\n",
       "      <td>12</td>\n",
       "    </tr>\n",
       "    <tr>\n",
       "      <th>2</th>\n",
       "      <td>C10003</td>\n",
       "      <td>2495.148862</td>\n",
       "      <td>1.000000</td>\n",
       "      <td>773.17</td>\n",
       "      <td>773.17</td>\n",
       "      <td>0.0</td>\n",
       "      <td>0.000000</td>\n",
       "      <td>1.000000</td>\n",
       "      <td>1.000000</td>\n",
       "      <td>0.000000</td>\n",
       "      <td>0.000000</td>\n",
       "      <td>0</td>\n",
       "      <td>12</td>\n",
       "      <td>7500.0</td>\n",
       "      <td>622.066742</td>\n",
       "      <td>627.284787</td>\n",
       "      <td>0.000000</td>\n",
       "      <td>12</td>\n",
       "    </tr>\n",
       "    <tr>\n",
       "      <th>3</th>\n",
       "      <td>C10004</td>\n",
       "      <td>1666.670542</td>\n",
       "      <td>0.636364</td>\n",
       "      <td>1499.00</td>\n",
       "      <td>1499.00</td>\n",
       "      <td>0.0</td>\n",
       "      <td>205.788017</td>\n",
       "      <td>0.083333</td>\n",
       "      <td>0.083333</td>\n",
       "      <td>0.000000</td>\n",
       "      <td>0.083333</td>\n",
       "      <td>1</td>\n",
       "      <td>1</td>\n",
       "      <td>7500.0</td>\n",
       "      <td>0.000000</td>\n",
       "      <td>NaN</td>\n",
       "      <td>0.000000</td>\n",
       "      <td>12</td>\n",
       "    </tr>\n",
       "    <tr>\n",
       "      <th>4</th>\n",
       "      <td>C10005</td>\n",
       "      <td>817.714335</td>\n",
       "      <td>1.000000</td>\n",
       "      <td>16.00</td>\n",
       "      <td>16.00</td>\n",
       "      <td>0.0</td>\n",
       "      <td>0.000000</td>\n",
       "      <td>0.083333</td>\n",
       "      <td>0.083333</td>\n",
       "      <td>0.000000</td>\n",
       "      <td>0.000000</td>\n",
       "      <td>0</td>\n",
       "      <td>1</td>\n",
       "      <td>1200.0</td>\n",
       "      <td>678.334763</td>\n",
       "      <td>244.791237</td>\n",
       "      <td>0.000000</td>\n",
       "      <td>12</td>\n",
       "    </tr>\n",
       "  </tbody>\n",
       "</table>\n",
       "</div>"
      ],
      "text/plain": [
       "  CUST_ID      BALANCE  BALANCE_FREQUENCY  PURCHASES  ONEOFF_PURCHASES  \\\n",
       "0  C10001    40.900749           0.818182      95.40              0.00   \n",
       "1  C10002  3202.467416           0.909091       0.00              0.00   \n",
       "2  C10003  2495.148862           1.000000     773.17            773.17   \n",
       "3  C10004  1666.670542           0.636364    1499.00           1499.00   \n",
       "4  C10005   817.714335           1.000000      16.00             16.00   \n",
       "\n",
       "   INSTALLMENTS_PURCHASES  CASH_ADVANCE  PURCHASES_FREQUENCY  \\\n",
       "0                    95.4      0.000000             0.166667   \n",
       "1                     0.0   6442.945483             0.000000   \n",
       "2                     0.0      0.000000             1.000000   \n",
       "3                     0.0    205.788017             0.083333   \n",
       "4                     0.0      0.000000             0.083333   \n",
       "\n",
       "   ONEOFF_PURCHASES_FREQUENCY  PURCHASES_INSTALLMENTS_FREQUENCY  \\\n",
       "0                    0.000000                          0.083333   \n",
       "1                    0.000000                          0.000000   \n",
       "2                    1.000000                          0.000000   \n",
       "3                    0.083333                          0.000000   \n",
       "4                    0.083333                          0.000000   \n",
       "\n",
       "   CASH_ADVANCE_FREQUENCY  CASH_ADVANCE_TRX  PURCHASES_TRX  CREDIT_LIMIT  \\\n",
       "0                0.000000                 0              2        1000.0   \n",
       "1                0.250000                 4              0        7000.0   \n",
       "2                0.000000                 0             12        7500.0   \n",
       "3                0.083333                 1              1        7500.0   \n",
       "4                0.000000                 0              1        1200.0   \n",
       "\n",
       "      PAYMENTS  MINIMUM_PAYMENTS  PRC_FULL_PAYMENT  TENURE  \n",
       "0   201.802084        139.509787          0.000000      12  \n",
       "1  4103.032597       1072.340217          0.222222      12  \n",
       "2   622.066742        627.284787          0.000000      12  \n",
       "3     0.000000               NaN          0.000000      12  \n",
       "4   678.334763        244.791237          0.000000      12  "
      ]
     },
     "execution_count": 3,
     "metadata": {},
     "output_type": "execute_result"
    }
   ],
   "source": [
    "df_raw.head()"
   ]
  },
  {
   "cell_type": "markdown",
   "id": "617c62a9",
   "metadata": {},
   "source": [
    "# 1.0 DATA DESCRIPTION"
   ]
  },
  {
   "cell_type": "code",
   "execution_count": 4,
   "id": "86a90919",
   "metadata": {},
   "outputs": [],
   "source": [
    "df01 = df_raw.copy()"
   ]
  },
  {
   "cell_type": "markdown",
   "id": "9b2ce688",
   "metadata": {},
   "source": [
    "## 1.1 Data Dimensions"
   ]
  },
  {
   "cell_type": "code",
   "execution_count": 5,
   "id": "cf8dcd65",
   "metadata": {},
   "outputs": [
    {
     "name": "stdout",
     "output_type": "stream",
     "text": [
      "Number of rows: 8950\n",
      "Number of cols: 18\n"
     ]
    }
   ],
   "source": [
    "print( 'Number of rows: {}'.format( df01.shape[0] ) )\n",
    "print( 'Number of cols: {}'.format( df01.shape[1] ) )"
   ]
  },
  {
   "cell_type": "markdown",
   "id": "a131ff61",
   "metadata": {},
   "source": [
    "## 1.2 Columns Rename"
   ]
  },
  {
   "cell_type": "code",
   "execution_count": 6,
   "id": "243551b0",
   "metadata": {},
   "outputs": [],
   "source": [
    "df01.columns = df01.columns.str.lower()"
   ]
  },
  {
   "cell_type": "markdown",
   "id": "83efd7e2",
   "metadata": {},
   "source": [
    "## 1.3 Data Types"
   ]
  },
  {
   "cell_type": "code",
   "execution_count": 7,
   "id": "ca42c461",
   "metadata": {},
   "outputs": [
    {
     "data": {
      "text/plain": [
       "cust_id                              object\n",
       "balance                             float64\n",
       "balance_frequency                   float64\n",
       "purchases                           float64\n",
       "oneoff_purchases                    float64\n",
       "installments_purchases              float64\n",
       "cash_advance                        float64\n",
       "purchases_frequency                 float64\n",
       "oneoff_purchases_frequency          float64\n",
       "purchases_installments_frequency    float64\n",
       "cash_advance_frequency              float64\n",
       "cash_advance_trx                      int64\n",
       "purchases_trx                         int64\n",
       "credit_limit                        float64\n",
       "payments                            float64\n",
       "minimum_payments                    float64\n",
       "prc_full_payment                    float64\n",
       "tenure                                int64\n",
       "dtype: object"
      ]
     },
     "execution_count": 7,
     "metadata": {},
     "output_type": "execute_result"
    }
   ],
   "source": [
    "df01.dtypes"
   ]
  },
  {
   "cell_type": "markdown",
   "id": "f4063d82",
   "metadata": {},
   "source": [
    "## 1.4 Checking Missing Values"
   ]
  },
  {
   "cell_type": "code",
   "execution_count": 8,
   "id": "0ea5ebf6",
   "metadata": {},
   "outputs": [
    {
     "data": {
      "text/plain": [
       "cust_id                               0\n",
       "balance                               0\n",
       "balance_frequency                     0\n",
       "purchases                             0\n",
       "oneoff_purchases                      0\n",
       "installments_purchases                0\n",
       "cash_advance                          0\n",
       "purchases_frequency                   0\n",
       "oneoff_purchases_frequency            0\n",
       "purchases_installments_frequency      0\n",
       "cash_advance_frequency                0\n",
       "cash_advance_trx                      0\n",
       "purchases_trx                         0\n",
       "credit_limit                          1\n",
       "payments                              0\n",
       "minimum_payments                    313\n",
       "prc_full_payment                      0\n",
       "tenure                                0\n",
       "dtype: int64"
      ]
     },
     "execution_count": 8,
     "metadata": {},
     "output_type": "execute_result"
    }
   ],
   "source": [
    "df01.isna().sum()"
   ]
  },
  {
   "cell_type": "markdown",
   "id": "6f6f2c9a",
   "metadata": {},
   "source": [
    "## 1.5 Replace Missing Values"
   ]
  },
  {
   "cell_type": "code",
   "execution_count": 9,
   "id": "64e0175d",
   "metadata": {},
   "outputs": [],
   "source": [
    "df01 = df01.dropna()"
   ]
  },
  {
   "cell_type": "markdown",
   "id": "dea759d7",
   "metadata": {},
   "source": [
    "## 1.6 Descriptive Statistics"
   ]
  },
  {
   "cell_type": "code",
   "execution_count": 10,
   "id": "dfdf1a7c",
   "metadata": {},
   "outputs": [],
   "source": [
    "num_attributes = df01.select_dtypes(include=['int64','float64'])\n",
    "cat_attributes = df01.select_dtypes(exclude=['int64','float64','datetime64[ns]'])"
   ]
  },
  {
   "cell_type": "markdown",
   "id": "34b09e50",
   "metadata": {},
   "source": [
    "### 1.6.1 Numerical Attributes"
   ]
  },
  {
   "cell_type": "code",
   "execution_count": 11,
   "id": "f36860cc",
   "metadata": {},
   "outputs": [
    {
     "data": {
      "text/html": [
       "<div>\n",
       "<style scoped>\n",
       "    .dataframe tbody tr th:only-of-type {\n",
       "        vertical-align: middle;\n",
       "    }\n",
       "\n",
       "    .dataframe tbody tr th {\n",
       "        vertical-align: top;\n",
       "    }\n",
       "\n",
       "    .dataframe thead th {\n",
       "        text-align: right;\n",
       "    }\n",
       "</style>\n",
       "<table border=\"1\" class=\"dataframe\">\n",
       "  <thead>\n",
       "    <tr style=\"text-align: right;\">\n",
       "      <th></th>\n",
       "      <th>attributes</th>\n",
       "      <th>min</th>\n",
       "      <th>max</th>\n",
       "      <th>amplitude</th>\n",
       "      <th>media</th>\n",
       "      <th>mediana</th>\n",
       "      <th>desvio_padrao</th>\n",
       "      <th>skewness</th>\n",
       "      <th>kurtosis</th>\n",
       "      <th>P10</th>\n",
       "      <th>P25</th>\n",
       "      <th>P50</th>\n",
       "      <th>P75</th>\n",
       "      <th>P95</th>\n",
       "      <th>P99</th>\n",
       "    </tr>\n",
       "  </thead>\n",
       "  <tbody>\n",
       "    <tr>\n",
       "      <th>0</th>\n",
       "      <td>balance</td>\n",
       "      <td>0.000000</td>\n",
       "      <td>19043.13856</td>\n",
       "      <td>19043.138560</td>\n",
       "      <td>1601.224893</td>\n",
       "      <td>916.855459</td>\n",
       "      <td>2095.449969</td>\n",
       "      <td>2.374254</td>\n",
       "      <td>7.553876</td>\n",
       "      <td>29.093764</td>\n",
       "      <td>148.095189</td>\n",
       "      <td>916.855459</td>\n",
       "      <td>2105.195853</td>\n",
       "      <td>5936.635587</td>\n",
       "      <td>9369.550879</td>\n",
       "    </tr>\n",
       "    <tr>\n",
       "      <th>1</th>\n",
       "      <td>balance_frequency</td>\n",
       "      <td>0.000000</td>\n",
       "      <td>1.00000</td>\n",
       "      <td>1.000000</td>\n",
       "      <td>0.895035</td>\n",
       "      <td>1.000000</td>\n",
       "      <td>0.207685</td>\n",
       "      <td>-2.084161</td>\n",
       "      <td>3.369586</td>\n",
       "      <td>0.545455</td>\n",
       "      <td>0.909091</td>\n",
       "      <td>1.000000</td>\n",
       "      <td>1.000000</td>\n",
       "      <td>1.000000</td>\n",
       "      <td>1.000000</td>\n",
       "    </tr>\n",
       "    <tr>\n",
       "      <th>2</th>\n",
       "      <td>purchases</td>\n",
       "      <td>0.000000</td>\n",
       "      <td>49039.57000</td>\n",
       "      <td>49039.570000</td>\n",
       "      <td>1025.433874</td>\n",
       "      <td>375.405000</td>\n",
       "      <td>2166.982511</td>\n",
       "      <td>8.055789</td>\n",
       "      <td>108.677684</td>\n",
       "      <td>0.000000</td>\n",
       "      <td>43.367500</td>\n",
       "      <td>375.405000</td>\n",
       "      <td>1145.980000</td>\n",
       "      <td>4060.092500</td>\n",
       "      <td>9127.092000</td>\n",
       "    </tr>\n",
       "    <tr>\n",
       "      <th>3</th>\n",
       "      <td>oneoff_purchases</td>\n",
       "      <td>0.000000</td>\n",
       "      <td>40761.25000</td>\n",
       "      <td>40761.250000</td>\n",
       "      <td>604.901438</td>\n",
       "      <td>44.995000</td>\n",
       "      <td>1684.210284</td>\n",
       "      <td>9.935776</td>\n",
       "      <td>160.121308</td>\n",
       "      <td>0.000000</td>\n",
       "      <td>0.000000</td>\n",
       "      <td>44.995000</td>\n",
       "      <td>599.100000</td>\n",
       "      <td>2728.372500</td>\n",
       "      <td>6783.896500</td>\n",
       "    </tr>\n",
       "    <tr>\n",
       "      <th>4</th>\n",
       "      <td>installments_purchases</td>\n",
       "      <td>0.000000</td>\n",
       "      <td>22500.00000</td>\n",
       "      <td>22500.000000</td>\n",
       "      <td>420.843533</td>\n",
       "      <td>94.785000</td>\n",
       "      <td>917.192075</td>\n",
       "      <td>7.216133</td>\n",
       "      <td>94.193373</td>\n",
       "      <td>0.000000</td>\n",
       "      <td>0.000000</td>\n",
       "      <td>94.785000</td>\n",
       "      <td>484.147500</td>\n",
       "      <td>1800.000000</td>\n",
       "      <td>3916.483000</td>\n",
       "    </tr>\n",
       "    <tr>\n",
       "      <th>5</th>\n",
       "      <td>cash_advance</td>\n",
       "      <td>0.000000</td>\n",
       "      <td>47137.21176</td>\n",
       "      <td>47137.211760</td>\n",
       "      <td>994.175523</td>\n",
       "      <td>0.000000</td>\n",
       "      <td>2121.335473</td>\n",
       "      <td>5.139629</td>\n",
       "      <td>52.143523</td>\n",
       "      <td>0.000000</td>\n",
       "      <td>0.000000</td>\n",
       "      <td>0.000000</td>\n",
       "      <td>1132.385490</td>\n",
       "      <td>4721.415498</td>\n",
       "      <td>9681.634354</td>\n",
       "    </tr>\n",
       "    <tr>\n",
       "      <th>6</th>\n",
       "      <td>purchases_frequency</td>\n",
       "      <td>0.000000</td>\n",
       "      <td>1.00000</td>\n",
       "      <td>1.000000</td>\n",
       "      <td>0.496000</td>\n",
       "      <td>0.500000</td>\n",
       "      <td>0.401249</td>\n",
       "      <td>0.033041</td>\n",
       "      <td>-1.638001</td>\n",
       "      <td>0.000000</td>\n",
       "      <td>0.083333</td>\n",
       "      <td>0.500000</td>\n",
       "      <td>0.916667</td>\n",
       "      <td>1.000000</td>\n",
       "      <td>1.000000</td>\n",
       "    </tr>\n",
       "    <tr>\n",
       "      <th>7</th>\n",
       "      <td>oneoff_purchases_frequency</td>\n",
       "      <td>0.000000</td>\n",
       "      <td>1.00000</td>\n",
       "      <td>1.000000</td>\n",
       "      <td>0.205909</td>\n",
       "      <td>0.083333</td>\n",
       "      <td>0.300036</td>\n",
       "      <td>1.504234</td>\n",
       "      <td>1.058206</td>\n",
       "      <td>0.000000</td>\n",
       "      <td>0.000000</td>\n",
       "      <td>0.083333</td>\n",
       "      <td>0.333333</td>\n",
       "      <td>1.000000</td>\n",
       "      <td>1.000000</td>\n",
       "    </tr>\n",
       "    <tr>\n",
       "      <th>8</th>\n",
       "      <td>purchases_installments_frequency</td>\n",
       "      <td>0.000000</td>\n",
       "      <td>1.00000</td>\n",
       "      <td>1.000000</td>\n",
       "      <td>0.368820</td>\n",
       "      <td>0.166667</td>\n",
       "      <td>0.398070</td>\n",
       "      <td>0.487753</td>\n",
       "      <td>-1.419279</td>\n",
       "      <td>0.000000</td>\n",
       "      <td>0.000000</td>\n",
       "      <td>0.166667</td>\n",
       "      <td>0.750000</td>\n",
       "      <td>1.000000</td>\n",
       "      <td>1.000000</td>\n",
       "    </tr>\n",
       "    <tr>\n",
       "      <th>9</th>\n",
       "      <td>cash_advance_frequency</td>\n",
       "      <td>0.000000</td>\n",
       "      <td>1.50000</td>\n",
       "      <td>1.500000</td>\n",
       "      <td>0.137604</td>\n",
       "      <td>0.000000</td>\n",
       "      <td>0.201780</td>\n",
       "      <td>1.795915</td>\n",
       "      <td>3.184233</td>\n",
       "      <td>0.000000</td>\n",
       "      <td>0.000000</td>\n",
       "      <td>0.000000</td>\n",
       "      <td>0.250000</td>\n",
       "      <td>0.583333</td>\n",
       "      <td>0.833333</td>\n",
       "    </tr>\n",
       "    <tr>\n",
       "      <th>10</th>\n",
       "      <td>cash_advance_trx</td>\n",
       "      <td>0.000000</td>\n",
       "      <td>123.00000</td>\n",
       "      <td>123.000000</td>\n",
       "      <td>3.313918</td>\n",
       "      <td>0.000000</td>\n",
       "      <td>6.912106</td>\n",
       "      <td>5.673327</td>\n",
       "      <td>60.428523</td>\n",
       "      <td>0.000000</td>\n",
       "      <td>0.000000</td>\n",
       "      <td>0.000000</td>\n",
       "      <td>4.000000</td>\n",
       "      <td>15.000000</td>\n",
       "      <td>30.000000</td>\n",
       "    </tr>\n",
       "    <tr>\n",
       "      <th>11</th>\n",
       "      <td>purchases_trx</td>\n",
       "      <td>0.000000</td>\n",
       "      <td>358.00000</td>\n",
       "      <td>358.000000</td>\n",
       "      <td>15.033233</td>\n",
       "      <td>7.000000</td>\n",
       "      <td>25.179010</td>\n",
       "      <td>4.578418</td>\n",
       "      <td>33.952279</td>\n",
       "      <td>0.000000</td>\n",
       "      <td>1.000000</td>\n",
       "      <td>7.000000</td>\n",
       "      <td>18.000000</td>\n",
       "      <td>59.000000</td>\n",
       "      <td>117.650000</td>\n",
       "    </tr>\n",
       "    <tr>\n",
       "      <th>12</th>\n",
       "      <td>credit_limit</td>\n",
       "      <td>50.000000</td>\n",
       "      <td>30000.00000</td>\n",
       "      <td>29950.000000</td>\n",
       "      <td>4522.091030</td>\n",
       "      <td>3000.000000</td>\n",
       "      <td>3659.028513</td>\n",
       "      <td>1.507019</td>\n",
       "      <td>2.773473</td>\n",
       "      <td>1200.000000</td>\n",
       "      <td>1600.000000</td>\n",
       "      <td>3000.000000</td>\n",
       "      <td>6500.000000</td>\n",
       "      <td>12000.000000</td>\n",
       "      <td>17000.000000</td>\n",
       "    </tr>\n",
       "    <tr>\n",
       "      <th>13</th>\n",
       "      <td>payments</td>\n",
       "      <td>0.049513</td>\n",
       "      <td>50721.48336</td>\n",
       "      <td>50721.433847</td>\n",
       "      <td>1784.478099</td>\n",
       "      <td>896.675701</td>\n",
       "      <td>2909.641616</td>\n",
       "      <td>5.873049</td>\n",
       "      <td>54.270814</td>\n",
       "      <td>214.777650</td>\n",
       "      <td>418.559237</td>\n",
       "      <td>896.675701</td>\n",
       "      <td>1951.142090</td>\n",
       "      <td>6152.318659</td>\n",
       "      <td>13657.620792</td>\n",
       "    </tr>\n",
       "    <tr>\n",
       "      <th>14</th>\n",
       "      <td>minimum_payments</td>\n",
       "      <td>0.019163</td>\n",
       "      <td>76406.20752</td>\n",
       "      <td>76406.188357</td>\n",
       "      <td>864.304943</td>\n",
       "      <td>312.452292</td>\n",
       "      <td>2372.428981</td>\n",
       "      <td>13.622193</td>\n",
       "      <td>283.963042</td>\n",
       "      <td>106.113465</td>\n",
       "      <td>169.163545</td>\n",
       "      <td>312.452292</td>\n",
       "      <td>825.496463</td>\n",
       "      <td>2766.593894</td>\n",
       "      <td>9037.885662</td>\n",
       "    </tr>\n",
       "    <tr>\n",
       "      <th>15</th>\n",
       "      <td>prc_full_payment</td>\n",
       "      <td>0.000000</td>\n",
       "      <td>1.00000</td>\n",
       "      <td>1.000000</td>\n",
       "      <td>0.159304</td>\n",
       "      <td>0.000000</td>\n",
       "      <td>0.296254</td>\n",
       "      <td>1.886027</td>\n",
       "      <td>2.201598</td>\n",
       "      <td>0.000000</td>\n",
       "      <td>0.000000</td>\n",
       "      <td>0.000000</td>\n",
       "      <td>0.166667</td>\n",
       "      <td>1.000000</td>\n",
       "      <td>1.000000</td>\n",
       "    </tr>\n",
       "    <tr>\n",
       "      <th>16</th>\n",
       "      <td>tenure</td>\n",
       "      <td>6.000000</td>\n",
       "      <td>12.00000</td>\n",
       "      <td>6.000000</td>\n",
       "      <td>11.534391</td>\n",
       "      <td>12.000000</td>\n",
       "      <td>1.310908</td>\n",
       "      <td>-3.011141</td>\n",
       "      <td>8.156701</td>\n",
       "      <td>10.000000</td>\n",
       "      <td>12.000000</td>\n",
       "      <td>12.000000</td>\n",
       "      <td>12.000000</td>\n",
       "      <td>12.000000</td>\n",
       "      <td>12.000000</td>\n",
       "    </tr>\n",
       "  </tbody>\n",
       "</table>\n",
       "</div>"
      ],
      "text/plain": [
       "                          attributes        min          max     amplitude  \\\n",
       "0                            balance   0.000000  19043.13856  19043.138560   \n",
       "1                  balance_frequency   0.000000      1.00000      1.000000   \n",
       "2                          purchases   0.000000  49039.57000  49039.570000   \n",
       "3                   oneoff_purchases   0.000000  40761.25000  40761.250000   \n",
       "4             installments_purchases   0.000000  22500.00000  22500.000000   \n",
       "5                       cash_advance   0.000000  47137.21176  47137.211760   \n",
       "6                purchases_frequency   0.000000      1.00000      1.000000   \n",
       "7         oneoff_purchases_frequency   0.000000      1.00000      1.000000   \n",
       "8   purchases_installments_frequency   0.000000      1.00000      1.000000   \n",
       "9             cash_advance_frequency   0.000000      1.50000      1.500000   \n",
       "10                  cash_advance_trx   0.000000    123.00000    123.000000   \n",
       "11                     purchases_trx   0.000000    358.00000    358.000000   \n",
       "12                      credit_limit  50.000000  30000.00000  29950.000000   \n",
       "13                          payments   0.049513  50721.48336  50721.433847   \n",
       "14                  minimum_payments   0.019163  76406.20752  76406.188357   \n",
       "15                  prc_full_payment   0.000000      1.00000      1.000000   \n",
       "16                            tenure   6.000000     12.00000      6.000000   \n",
       "\n",
       "          media      mediana  desvio_padrao   skewness    kurtosis  \\\n",
       "0   1601.224893   916.855459    2095.449969   2.374254    7.553876   \n",
       "1      0.895035     1.000000       0.207685  -2.084161    3.369586   \n",
       "2   1025.433874   375.405000    2166.982511   8.055789  108.677684   \n",
       "3    604.901438    44.995000    1684.210284   9.935776  160.121308   \n",
       "4    420.843533    94.785000     917.192075   7.216133   94.193373   \n",
       "5    994.175523     0.000000    2121.335473   5.139629   52.143523   \n",
       "6      0.496000     0.500000       0.401249   0.033041   -1.638001   \n",
       "7      0.205909     0.083333       0.300036   1.504234    1.058206   \n",
       "8      0.368820     0.166667       0.398070   0.487753   -1.419279   \n",
       "9      0.137604     0.000000       0.201780   1.795915    3.184233   \n",
       "10     3.313918     0.000000       6.912106   5.673327   60.428523   \n",
       "11    15.033233     7.000000      25.179010   4.578418   33.952279   \n",
       "12  4522.091030  3000.000000    3659.028513   1.507019    2.773473   \n",
       "13  1784.478099   896.675701    2909.641616   5.873049   54.270814   \n",
       "14   864.304943   312.452292    2372.428981  13.622193  283.963042   \n",
       "15     0.159304     0.000000       0.296254   1.886027    2.201598   \n",
       "16    11.534391    12.000000       1.310908  -3.011141    8.156701   \n",
       "\n",
       "            P10          P25          P50          P75           P95  \\\n",
       "0     29.093764   148.095189   916.855459  2105.195853   5936.635587   \n",
       "1      0.545455     0.909091     1.000000     1.000000      1.000000   \n",
       "2      0.000000    43.367500   375.405000  1145.980000   4060.092500   \n",
       "3      0.000000     0.000000    44.995000   599.100000   2728.372500   \n",
       "4      0.000000     0.000000    94.785000   484.147500   1800.000000   \n",
       "5      0.000000     0.000000     0.000000  1132.385490   4721.415498   \n",
       "6      0.000000     0.083333     0.500000     0.916667      1.000000   \n",
       "7      0.000000     0.000000     0.083333     0.333333      1.000000   \n",
       "8      0.000000     0.000000     0.166667     0.750000      1.000000   \n",
       "9      0.000000     0.000000     0.000000     0.250000      0.583333   \n",
       "10     0.000000     0.000000     0.000000     4.000000     15.000000   \n",
       "11     0.000000     1.000000     7.000000    18.000000     59.000000   \n",
       "12  1200.000000  1600.000000  3000.000000  6500.000000  12000.000000   \n",
       "13   214.777650   418.559237   896.675701  1951.142090   6152.318659   \n",
       "14   106.113465   169.163545   312.452292   825.496463   2766.593894   \n",
       "15     0.000000     0.000000     0.000000     0.166667      1.000000   \n",
       "16    10.000000    12.000000    12.000000    12.000000     12.000000   \n",
       "\n",
       "             P99  \n",
       "0    9369.550879  \n",
       "1       1.000000  \n",
       "2    9127.092000  \n",
       "3    6783.896500  \n",
       "4    3916.483000  \n",
       "5    9681.634354  \n",
       "6       1.000000  \n",
       "7       1.000000  \n",
       "8       1.000000  \n",
       "9       0.833333  \n",
       "10     30.000000  \n",
       "11    117.650000  \n",
       "12  17000.000000  \n",
       "13  13657.620792  \n",
       "14   9037.885662  \n",
       "15      1.000000  \n",
       "16     12.000000  "
      ]
     },
     "execution_count": 11,
     "metadata": {},
     "output_type": "execute_result"
    }
   ],
   "source": [
    "# estimadores de localização (media, mediana, min, max)\n",
    "\n",
    "est1 = pd.DataFrame(num_attributes.apply(np.mean)).T\n",
    "est2 = pd.DataFrame(num_attributes.apply(np.median)).T\n",
    "est3 = pd.DataFrame(num_attributes.apply(np.min)).T\n",
    "est4 = pd.DataFrame(num_attributes.apply(np.max)).T\n",
    "\n",
    "# estimadores de variabilidade (desvio padrão, amplitude)\n",
    "\n",
    "est5 = pd.DataFrame(num_attributes.apply(np.std)).T\n",
    "est6 = pd.DataFrame(num_attributes.apply(lambda x: x.max() - x.min())).T\n",
    "\n",
    "# skewness e kurtosis\n",
    "\n",
    "est7 = pd.DataFrame(num_attributes.apply(lambda x: x.skew())).T\n",
    "est8 = pd.DataFrame(num_attributes.apply(lambda x: x.kurtosis())).T\n",
    "\n",
    "# concatenate\n",
    "\n",
    "m1 = pd.concat([est3, est4, est6, est1, est2, est5, est7, est8]).T.reset_index()\n",
    "\n",
    "m1.columns = ['attributes', 'min', 'max', 'amplitude', 'media', 'mediana', 'desvio_padrao', 'skewness', 'kurtosis']\n",
    "\n",
    "# percentis\n",
    "quartis = num_attributes.apply( lambda x: np.percentile( x, q=[10, 25, 50, 75, 95, 99] ) ).T.reset_index()\n",
    "quartis.columns = ['attributes', 'P10', 'P25', 'P50', 'P75', 'P95', 'P99']\n",
    "\n",
    "\n",
    "m2 = pd.merge( m1, quartis, how='inner', on='attributes' )\n",
    "m2"
   ]
  },
  {
   "cell_type": "code",
   "execution_count": 12,
   "id": "d50647c0",
   "metadata": {},
   "outputs": [],
   "source": [
    "### Balance: Quanto eu já gastei no cartão ( Fatura atual )\n",
    "## Possiveis Outliers\n",
    "\n",
    "### Segunda Opção sobre o Balance ( Saldo ): Fatural atual - limite do cartão. O quanto falta de limite disponível para compra.\n",
    "## Possiveis Outliers\n",
    "\n",
    "## Balance Frequency: Frequência de uso do cartão ( usabilidade )\n",
    "\n",
    "## Purchases: O valor gasto no cartão acumulado dos últimos 6 meses ( a soma de todos os valores quando a pessoa passou o cartão na máquina de cartão )\n",
    "\n",
    "## Purchases On-Off: A soma de todas as compras pagas 1x no cartão, nos últimos 6 meses.\n",
    "## ( Categoria )\n",
    "\n",
    "## Installmente Purchases: A soma de todas as compras pagas em mais de 1x no cartão, nos últimos 6 meses.\n",
    "## ( Categoria )\n",
    "\n",
    "## Cash Advance: Valor do saque do limite do cartão de crédito, acumulado dos últimos 6 meses.\n",
    "## Um adiantamento em dinheiro é basicamente um empréstimo de curto prazo oferecido pelo emissor do \n",
    "## cartão de crédito . Quando você pega um adiantamento em dinheiro, está tomando dinheiro emprestado \n",
    "## contra a linha de crédito do seu cartão.\n",
    "\n",
    "## Purchases Frequency: Um valor de 0 a 1 que identifica a frequência de compra do cliente\n",
    "\n",
    "## Cash Advance Frequency: A frequência com que o cliente faz retiradas de dinheiro do seu cartão de crédito.\n",
    "\n",
    "## Cash Advance TRX: A quantidade de saques da conta do cartão de crédito\n",
    "\n",
    "## Purchases TRX: A quantidade de compras realizadas no cartão de crédito.\n",
    "\n",
    "## Credit Limit: O limite do cartão de crédito.\n",
    "\n",
    "## Payments: O valor pago além do mínimo da fatura ( não necessariamente a fatura toda )\n",
    "\n",
    "## Minimum Payments: O valor mínimo pago da fatura\n",
    "\n",
    "## Por exemplo:\n",
    "## Fatura total ( Payments ): 3000 \n",
    "## Pagamento mínimo ( mínimum payments ): 2000 \n",
    "## Pagamento efetivo de R$2.500\n",
    "\n",
    "## Payment = 500 \n",
    "## Minimum payments = 2000\n",
    "## Pagamento efeito = Payments + Minimum Payments\n",
    "\n",
    "## Tenure: O tempo de posse do cartão em meses ( O tempo em que a pessoa é cliente do banco )"
   ]
  },
  {
   "cell_type": "markdown",
   "id": "84de191a",
   "metadata": {},
   "source": [
    "# Credit Limit"
   ]
  },
  {
   "cell_type": "code",
   "execution_count": null,
   "id": "f2ff0fab",
   "metadata": {},
   "outputs": [],
   "source": [
    "plt.figure( figsize=(20,10 ) )\n",
    "sns.boxplot( x='credit_limit', data=num_attributes, color='purple' )"
   ]
  },
  {
   "cell_type": "code",
   "execution_count": null,
   "id": "988d0cde",
   "metadata": {},
   "outputs": [],
   "source": [
    "plt.figure( figsize=(20,10 ) )\n",
    "sns.violinplot( x='credit_limit', data=num_attributes, color='darkgreen' )"
   ]
  },
  {
   "cell_type": "code",
   "execution_count": null,
   "id": "30e06a3c",
   "metadata": {},
   "outputs": [],
   "source": []
  },
  {
   "cell_type": "code",
   "execution_count": null,
   "id": "e6cc6a21",
   "metadata": {},
   "outputs": [],
   "source": []
  },
  {
   "cell_type": "code",
   "execution_count": null,
   "id": "3609b8e0",
   "metadata": {},
   "outputs": [],
   "source": []
  },
  {
   "cell_type": "code",
   "execution_count": null,
   "id": "bb207e89",
   "metadata": {},
   "outputs": [],
   "source": []
  },
  {
   "cell_type": "markdown",
   "id": "f38500e7",
   "metadata": {},
   "source": [
    "# 2.0 DATA FILTERING"
   ]
  },
  {
   "cell_type": "markdown",
   "id": "c1dbcb1f",
   "metadata": {},
   "source": [
    "# 3.0 FEATURE ENGINEERING"
   ]
  },
  {
   "cell_type": "markdown",
   "id": "7ef9cadd",
   "metadata": {},
   "source": [
    "# 4.0 EDA - SPACE STUDY"
   ]
  },
  {
   "cell_type": "markdown",
   "id": "7da7c047",
   "metadata": {},
   "source": [
    "# 5.0 DATA PREPARATION"
   ]
  },
  {
   "cell_type": "markdown",
   "id": "277b8d9b",
   "metadata": {},
   "source": [
    "# 6.0 FEATURE SELECTION"
   ]
  },
  {
   "cell_type": "code",
   "execution_count": null,
   "id": "7c3a41e5",
   "metadata": {},
   "outputs": [],
   "source": [
    "df01.head()"
   ]
  },
  {
   "cell_type": "code",
   "execution_count": null,
   "id": "03d741d1",
   "metadata": {},
   "outputs": [],
   "source": [
    "cols_drop = ['cust_id']\n",
    "X = df01.drop(columns=cols_drop)"
   ]
  },
  {
   "cell_type": "markdown",
   "id": "a89a09ea",
   "metadata": {},
   "source": [
    "# 7.0 HYPERPARAMETER FINE TUNING"
   ]
  },
  {
   "cell_type": "markdown",
   "id": "1ce19e77",
   "metadata": {},
   "source": [
    "## 7.1 K-means"
   ]
  },
  {
   "cell_type": "code",
   "execution_count": null,
   "id": "bde44c71",
   "metadata": {},
   "outputs": [],
   "source": [
    "clusters = [2, 3, 4, 5, 6, 7, 8]\n",
    "\n",
    "silhouette_list = []\n",
    "db_list=[]\n",
    "\n",
    "for k in clusters:\n",
    "    \n",
    "    # model definition\n",
    "    kmeans_model = c.KMeans(n_clusters=k)\n",
    "    \n",
    "    # model training\n",
    "    kmeans_model.fit(X)\n",
    "    \n",
    "    # model predict\n",
    "    labels = kmeans_model.predict(X)\n",
    "    \n",
    "    # model performance\n",
    "    sil = m.silhouette_score(X, labels)\n",
    "    dav = m.davies_bouldin_score(X, labels)\n",
    "    \n",
    "    silhouette_list.append(sil)\n",
    "    db_list.append(dav)"
   ]
  },
  {
   "cell_type": "code",
   "execution_count": null,
   "id": "2bbe7203",
   "metadata": {
    "scrolled": false
   },
   "outputs": [],
   "source": [
    "plt.figure(figsize=(20,8))\n",
    "plt.plot(clusters, silhouette_list, linestyle='--', marker='o')\n",
    "plt.xlabel('Número de clusters')\n",
    "plt.ylabel('Silhouette Score')\n",
    "plt.title('NÚMERO DE CLUSTERS X SILHOUETTE SCORE', fontweight='bold')"
   ]
  },
  {
   "cell_type": "code",
   "execution_count": null,
   "id": "54910300",
   "metadata": {},
   "outputs": [],
   "source": [
    "plt.figure(figsize=(20,8))\n",
    "plt.plot(clusters, db_list, linestyle='--', marker='o')\n",
    "plt.xlabel('Número de clusters')\n",
    "plt.ylabel('DB Index')\n",
    "plt.title('NÚMERO DE CLUSTERS X DB INDEX', fontweight='bold')"
   ]
  },
  {
   "cell_type": "markdown",
   "id": "88e5c0a3",
   "metadata": {},
   "source": [
    "# 8.0 MACHINE LEARNING TRAINING"
   ]
  },
  {
   "cell_type": "markdown",
   "id": "504c2c94",
   "metadata": {},
   "source": [
    "# 9.0 CLUSTERING ANALYSIS"
   ]
  },
  {
   "cell_type": "markdown",
   "id": "7bd3b534",
   "metadata": {},
   "source": [
    "# 10.0 EDA - INSIGHT REPORTS"
   ]
  },
  {
   "cell_type": "markdown",
   "id": "1f3d4d9d",
   "metadata": {},
   "source": [
    "# 11.0 DEPLOY TO PRODUCTION"
   ]
  }
 ],
 "metadata": {
  "kernelspec": {
   "display_name": "Python 3 (ipykernel)",
   "language": "python",
   "name": "python3"
  },
  "language_info": {
   "codemirror_mode": {
    "name": "ipython",
    "version": 3
   },
   "file_extension": ".py",
   "mimetype": "text/x-python",
   "name": "python",
   "nbconvert_exporter": "python",
   "pygments_lexer": "ipython3",
   "version": "3.8.12"
  }
 },
 "nbformat": 4,
 "nbformat_minor": 5
}
