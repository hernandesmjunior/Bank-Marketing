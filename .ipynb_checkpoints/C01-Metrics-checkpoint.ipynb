{
 "cells": [
  {
   "cell_type": "markdown",
   "id": "f6c2d84b",
   "metadata": {},
   "source": [
    "# PROJETO BANK MARKETING STRATEGY"
   ]
  },
  {
   "cell_type": "markdown",
   "id": "07ef5a89",
   "metadata": {
    "heading_collapsed": true
   },
   "source": [
    "## INPUT"
   ]
  },
  {
   "cell_type": "markdown",
   "id": "090a3754",
   "metadata": {
    "hidden": true
   },
   "source": [
    "Você foi contratado como um cientista de dados consultor, para criar um produto de dados que cria uma segmentação de clientes que direcionará a estratégia de marketing e os resultados esperados do seu trabalho de consultoria, são os seguintes:\n",
    "\n",
    "1. Criar uma segmentação de clientes baseado em critérios claros de seleção.\n",
    "2. Tornar a segmentação de clientes acessível para o time de operações.\n",
    "3. Ensinar o time de operações sobre como usar a sua solução.\n",
    "4. Transferir o conhecimento para os Cientistas de Dados da International Bank.\n",
    "5. Recomendar 2-3 alavancas de negócio para cada segmento de clientes."
   ]
  },
  {
   "cell_type": "markdown",
   "id": "df4423e9",
   "metadata": {
    "heading_collapsed": true
   },
   "source": [
    "## OUTPUT"
   ]
  },
  {
   "cell_type": "markdown",
   "id": "053ad0c0",
   "metadata": {
    "hidden": true
   },
   "source": [
    "Painel de PowerBI"
   ]
  },
  {
   "cell_type": "markdown",
   "id": "42847ec5",
   "metadata": {
    "heading_collapsed": true
   },
   "source": [
    "## TASKS"
   ]
  },
  {
   "cell_type": "markdown",
   "id": "5953954c",
   "metadata": {
    "hidden": true
   },
   "source": [
    "Descrição dos dados\n",
    "- Substituição de NA's\n",
    "\n",
    "EDA\n",
    "- Análise Univariada \n",
    "- Análise Bivariada\n",
    "- Detecação de outliers\n",
    "- Seleção de Features\n",
    "- Estudo do EspaçoDefinição do Embedding\n",
    "\n",
    "Treinamento dos algoritmos de ML.\n",
    "- Análise de Performance\n",
    "- Análise de Clustering\n",
    "- Definição dos número de clustering.\n",
    "\n",
    "Insights\n",
    "- Explicação das características dos segmentos\n",
    "\n",
    "\n",
    "Arquitetura da AWS.\n",
    "- S3 para armazenar os dados\n",
    "- EC2 para armazenar o ETL e a ferramenta de visualização.\n",
    "- DB para armazenar a tabela\n",
    "- Cronjob\n",
    "- Papermill\n"
   ]
  },
  {
   "cell_type": "markdown",
   "id": "1556eef5",
   "metadata": {},
   "source": [
    "# 0.0 IMPORTS"
   ]
  },
  {
   "cell_type": "code",
   "execution_count": 29,
   "id": "c4d990cd",
   "metadata": {},
   "outputs": [],
   "source": [
    "import pandas as pd\n",
    "import matplotlib.pyplot as plt\n",
    "import seaborn as sns\n",
    "\n",
    "from sklearn import cluster as c\n",
    "from sklearn import metrics as m\n",
    "\n",
    "sns.set()"
   ]
  },
  {
   "cell_type": "code",
   "execution_count": 2,
   "id": "9cc8724b",
   "metadata": {},
   "outputs": [],
   "source": [
    "df_raw = pd.read_csv('Data/CC GENERAL.csv')"
   ]
  },
  {
   "cell_type": "markdown",
   "id": "617c62a9",
   "metadata": {},
   "source": [
    "# 1.0 DATA DESCRIPTION"
   ]
  },
  {
   "cell_type": "code",
   "execution_count": 4,
   "id": "86a90919",
   "metadata": {},
   "outputs": [],
   "source": [
    "df01 = df_raw.copy()"
   ]
  },
  {
   "cell_type": "markdown",
   "id": "9b2ce688",
   "metadata": {},
   "source": [
    "## 1.1 Data Dimensions"
   ]
  },
  {
   "cell_type": "code",
   "execution_count": 14,
   "id": "cf8dcd65",
   "metadata": {},
   "outputs": [
    {
     "name": "stdout",
     "output_type": "stream",
     "text": [
      "Number of rows: 8950\n",
      "Number of cols: 18\n"
     ]
    }
   ],
   "source": [
    "print( 'Number of rows: {}'.format( df01.shape[0] ) )\n",
    "print( 'Number of cols: {}'.format( df01.shape[1] ) )"
   ]
  },
  {
   "cell_type": "markdown",
   "id": "a131ff61",
   "metadata": {},
   "source": [
    "## 1.2 Columns Rename"
   ]
  },
  {
   "cell_type": "code",
   "execution_count": 15,
   "id": "243551b0",
   "metadata": {},
   "outputs": [],
   "source": [
    "df01.columns = df01.columns.str.lower()"
   ]
  },
  {
   "cell_type": "markdown",
   "id": "83efd7e2",
   "metadata": {},
   "source": [
    "## 1.3 Data Types"
   ]
  },
  {
   "cell_type": "code",
   "execution_count": 16,
   "id": "ca42c461",
   "metadata": {},
   "outputs": [
    {
     "data": {
      "text/plain": [
       "cust_id                              object\n",
       "balance                             float64\n",
       "balance_frequency                   float64\n",
       "purchases                           float64\n",
       "oneoff_purchases                    float64\n",
       "installments_purchases              float64\n",
       "cash_advance                        float64\n",
       "purchases_frequency                 float64\n",
       "oneoff_purchases_frequency          float64\n",
       "purchases_installments_frequency    float64\n",
       "cash_advance_frequency              float64\n",
       "cash_advance_trx                      int64\n",
       "purchases_trx                         int64\n",
       "credit_limit                        float64\n",
       "payments                            float64\n",
       "minimum_payments                    float64\n",
       "prc_full_payment                    float64\n",
       "tenure                                int64\n",
       "dtype: object"
      ]
     },
     "execution_count": 16,
     "metadata": {},
     "output_type": "execute_result"
    }
   ],
   "source": [
    "df01.dtypes"
   ]
  },
  {
   "cell_type": "markdown",
   "id": "f4063d82",
   "metadata": {},
   "source": [
    "## 1.4 Checking Missing Values"
   ]
  },
  {
   "cell_type": "code",
   "execution_count": 18,
   "id": "0ea5ebf6",
   "metadata": {},
   "outputs": [
    {
     "data": {
      "text/plain": [
       "cust_id                               0\n",
       "balance                               0\n",
       "balance_frequency                     0\n",
       "purchases                             0\n",
       "oneoff_purchases                      0\n",
       "installments_purchases                0\n",
       "cash_advance                          0\n",
       "purchases_frequency                   0\n",
       "oneoff_purchases_frequency            0\n",
       "purchases_installments_frequency      0\n",
       "cash_advance_frequency                0\n",
       "cash_advance_trx                      0\n",
       "purchases_trx                         0\n",
       "credit_limit                          1\n",
       "payments                              0\n",
       "minimum_payments                    313\n",
       "prc_full_payment                      0\n",
       "tenure                                0\n",
       "dtype: int64"
      ]
     },
     "execution_count": 18,
     "metadata": {},
     "output_type": "execute_result"
    }
   ],
   "source": [
    "df01.isna().sum()"
   ]
  },
  {
   "cell_type": "markdown",
   "id": "6f6f2c9a",
   "metadata": {},
   "source": [
    "## 1.4 Replace Missing Values"
   ]
  },
  {
   "cell_type": "code",
   "execution_count": 19,
   "id": "64e0175d",
   "metadata": {},
   "outputs": [],
   "source": [
    "df01 = df01.dropna()"
   ]
  },
  {
   "cell_type": "markdown",
   "id": "f38500e7",
   "metadata": {},
   "source": [
    "# 2.0 DATA FILTERING"
   ]
  },
  {
   "cell_type": "markdown",
   "id": "c1dbcb1f",
   "metadata": {},
   "source": [
    "# 3.0 FEATURE ENGINEERING"
   ]
  },
  {
   "cell_type": "markdown",
   "id": "7ef9cadd",
   "metadata": {},
   "source": [
    "# 4.0 EDA - SPACE STUDY"
   ]
  },
  {
   "cell_type": "markdown",
   "id": "7da7c047",
   "metadata": {},
   "source": [
    "# 5.0 DATA PREPARATION"
   ]
  },
  {
   "cell_type": "markdown",
   "id": "277b8d9b",
   "metadata": {},
   "source": [
    "# 6.0 FEATURE SELECTION"
   ]
  },
  {
   "cell_type": "code",
   "execution_count": 22,
   "id": "7c3a41e5",
   "metadata": {},
   "outputs": [
    {
     "data": {
      "text/html": [
       "<div>\n",
       "<style scoped>\n",
       "    .dataframe tbody tr th:only-of-type {\n",
       "        vertical-align: middle;\n",
       "    }\n",
       "\n",
       "    .dataframe tbody tr th {\n",
       "        vertical-align: top;\n",
       "    }\n",
       "\n",
       "    .dataframe thead th {\n",
       "        text-align: right;\n",
       "    }\n",
       "</style>\n",
       "<table border=\"1\" class=\"dataframe\">\n",
       "  <thead>\n",
       "    <tr style=\"text-align: right;\">\n",
       "      <th></th>\n",
       "      <th>cust_id</th>\n",
       "      <th>balance</th>\n",
       "      <th>balance_frequency</th>\n",
       "      <th>purchases</th>\n",
       "      <th>oneoff_purchases</th>\n",
       "      <th>installments_purchases</th>\n",
       "      <th>cash_advance</th>\n",
       "      <th>purchases_frequency</th>\n",
       "      <th>oneoff_purchases_frequency</th>\n",
       "      <th>purchases_installments_frequency</th>\n",
       "      <th>cash_advance_frequency</th>\n",
       "      <th>cash_advance_trx</th>\n",
       "      <th>purchases_trx</th>\n",
       "      <th>credit_limit</th>\n",
       "      <th>payments</th>\n",
       "      <th>minimum_payments</th>\n",
       "      <th>prc_full_payment</th>\n",
       "      <th>tenure</th>\n",
       "    </tr>\n",
       "  </thead>\n",
       "  <tbody>\n",
       "    <tr>\n",
       "      <th>0</th>\n",
       "      <td>C10001</td>\n",
       "      <td>40.900749</td>\n",
       "      <td>0.818182</td>\n",
       "      <td>95.40</td>\n",
       "      <td>0.00</td>\n",
       "      <td>95.40</td>\n",
       "      <td>0.000000</td>\n",
       "      <td>0.166667</td>\n",
       "      <td>0.000000</td>\n",
       "      <td>0.083333</td>\n",
       "      <td>0.00</td>\n",
       "      <td>0</td>\n",
       "      <td>2</td>\n",
       "      <td>1000.0</td>\n",
       "      <td>201.802084</td>\n",
       "      <td>139.509787</td>\n",
       "      <td>0.000000</td>\n",
       "      <td>12</td>\n",
       "    </tr>\n",
       "    <tr>\n",
       "      <th>1</th>\n",
       "      <td>C10002</td>\n",
       "      <td>3202.467416</td>\n",
       "      <td>0.909091</td>\n",
       "      <td>0.00</td>\n",
       "      <td>0.00</td>\n",
       "      <td>0.00</td>\n",
       "      <td>6442.945483</td>\n",
       "      <td>0.000000</td>\n",
       "      <td>0.000000</td>\n",
       "      <td>0.000000</td>\n",
       "      <td>0.25</td>\n",
       "      <td>4</td>\n",
       "      <td>0</td>\n",
       "      <td>7000.0</td>\n",
       "      <td>4103.032597</td>\n",
       "      <td>1072.340217</td>\n",
       "      <td>0.222222</td>\n",
       "      <td>12</td>\n",
       "    </tr>\n",
       "    <tr>\n",
       "      <th>2</th>\n",
       "      <td>C10003</td>\n",
       "      <td>2495.148862</td>\n",
       "      <td>1.000000</td>\n",
       "      <td>773.17</td>\n",
       "      <td>773.17</td>\n",
       "      <td>0.00</td>\n",
       "      <td>0.000000</td>\n",
       "      <td>1.000000</td>\n",
       "      <td>1.000000</td>\n",
       "      <td>0.000000</td>\n",
       "      <td>0.00</td>\n",
       "      <td>0</td>\n",
       "      <td>12</td>\n",
       "      <td>7500.0</td>\n",
       "      <td>622.066742</td>\n",
       "      <td>627.284787</td>\n",
       "      <td>0.000000</td>\n",
       "      <td>12</td>\n",
       "    </tr>\n",
       "    <tr>\n",
       "      <th>4</th>\n",
       "      <td>C10005</td>\n",
       "      <td>817.714335</td>\n",
       "      <td>1.000000</td>\n",
       "      <td>16.00</td>\n",
       "      <td>16.00</td>\n",
       "      <td>0.00</td>\n",
       "      <td>0.000000</td>\n",
       "      <td>0.083333</td>\n",
       "      <td>0.083333</td>\n",
       "      <td>0.000000</td>\n",
       "      <td>0.00</td>\n",
       "      <td>0</td>\n",
       "      <td>1</td>\n",
       "      <td>1200.0</td>\n",
       "      <td>678.334763</td>\n",
       "      <td>244.791237</td>\n",
       "      <td>0.000000</td>\n",
       "      <td>12</td>\n",
       "    </tr>\n",
       "    <tr>\n",
       "      <th>5</th>\n",
       "      <td>C10006</td>\n",
       "      <td>1809.828751</td>\n",
       "      <td>1.000000</td>\n",
       "      <td>1333.28</td>\n",
       "      <td>0.00</td>\n",
       "      <td>1333.28</td>\n",
       "      <td>0.000000</td>\n",
       "      <td>0.666667</td>\n",
       "      <td>0.000000</td>\n",
       "      <td>0.583333</td>\n",
       "      <td>0.00</td>\n",
       "      <td>0</td>\n",
       "      <td>8</td>\n",
       "      <td>1800.0</td>\n",
       "      <td>1400.057770</td>\n",
       "      <td>2407.246035</td>\n",
       "      <td>0.000000</td>\n",
       "      <td>12</td>\n",
       "    </tr>\n",
       "  </tbody>\n",
       "</table>\n",
       "</div>"
      ],
      "text/plain": [
       "  cust_id      balance  balance_frequency  purchases  oneoff_purchases  \\\n",
       "0  C10001    40.900749           0.818182      95.40              0.00   \n",
       "1  C10002  3202.467416           0.909091       0.00              0.00   \n",
       "2  C10003  2495.148862           1.000000     773.17            773.17   \n",
       "4  C10005   817.714335           1.000000      16.00             16.00   \n",
       "5  C10006  1809.828751           1.000000    1333.28              0.00   \n",
       "\n",
       "   installments_purchases  cash_advance  purchases_frequency  \\\n",
       "0                   95.40      0.000000             0.166667   \n",
       "1                    0.00   6442.945483             0.000000   \n",
       "2                    0.00      0.000000             1.000000   \n",
       "4                    0.00      0.000000             0.083333   \n",
       "5                 1333.28      0.000000             0.666667   \n",
       "\n",
       "   oneoff_purchases_frequency  purchases_installments_frequency  \\\n",
       "0                    0.000000                          0.083333   \n",
       "1                    0.000000                          0.000000   \n",
       "2                    1.000000                          0.000000   \n",
       "4                    0.083333                          0.000000   \n",
       "5                    0.000000                          0.583333   \n",
       "\n",
       "   cash_advance_frequency  cash_advance_trx  purchases_trx  credit_limit  \\\n",
       "0                    0.00                 0              2        1000.0   \n",
       "1                    0.25                 4              0        7000.0   \n",
       "2                    0.00                 0             12        7500.0   \n",
       "4                    0.00                 0              1        1200.0   \n",
       "5                    0.00                 0              8        1800.0   \n",
       "\n",
       "      payments  minimum_payments  prc_full_payment  tenure  \n",
       "0   201.802084        139.509787          0.000000      12  \n",
       "1  4103.032597       1072.340217          0.222222      12  \n",
       "2   622.066742        627.284787          0.000000      12  \n",
       "4   678.334763        244.791237          0.000000      12  \n",
       "5  1400.057770       2407.246035          0.000000      12  "
      ]
     },
     "execution_count": 22,
     "metadata": {},
     "output_type": "execute_result"
    }
   ],
   "source": [
    "df01.head()"
   ]
  },
  {
   "cell_type": "code",
   "execution_count": 23,
   "id": "03d741d1",
   "metadata": {},
   "outputs": [],
   "source": [
    "cols_drop = ['cust_id']\n",
    "X = df01.drop(columns=cols_drop)"
   ]
  },
  {
   "cell_type": "markdown",
   "id": "a89a09ea",
   "metadata": {},
   "source": [
    "# 7.0 HYPERPARAMETER FINE TUNING"
   ]
  },
  {
   "cell_type": "markdown",
   "id": "1ce19e77",
   "metadata": {},
   "source": [
    "## 7.1 K-means"
   ]
  },
  {
   "cell_type": "code",
   "execution_count": 35,
   "id": "bde44c71",
   "metadata": {},
   "outputs": [],
   "source": [
    "clusters = [2, 3, 4, 5, 6, 7, 8]\n",
    "\n",
    "silhouette_list = []\n",
    "db_list=[]\n",
    "\n",
    "for k in clusters:\n",
    "    \n",
    "    # model definition\n",
    "    kmeans_model = c.KMeans(n_clusters=k)\n",
    "    \n",
    "    # model training\n",
    "    kmeans_model.fit(X)\n",
    "    \n",
    "    # model predict\n",
    "    labels = kmeans_model.predict(X)\n",
    "    \n",
    "    # model performance\n",
    "    sil = m.silhouette_score(X, labels)\n",
    "    dav = m.davies_bouldin_score(X, labels)\n",
    "    \n",
    "    silhouette_list.append(sil)\n",
    "    db_list.append(dav)"
   ]
  },
  {
   "cell_type": "code",
   "execution_count": 33,
   "id": "2bbe7203",
   "metadata": {
    "scrolled": false
   },
   "outputs": [
    {
     "data": {
      "text/plain": [
       "Text(0.5, 1.0, 'NÚMERO DE CLUSTERS X SILHOUETTE SCORE')"
      ]
     },
     "execution_count": 33,
     "metadata": {},
     "output_type": "execute_result"
    },
    {
     "data": {
      "image/png": "[encoded data removed]",
      "text/plain": [
       "<Figure size 1440x576 with 1 Axes>"
      ]
     },
     "metadata": {},
     "output_type": "display_data"
    }
   ],
   "source": [
    "plt.figure(figsize=(20,8))\n",
    "plt.plot(clusters, silhouette_list, linestyle='--', marker='o')\n",
    "plt.xlabel('Número de clusters')\n",
    "plt.ylabel('Silhouette Score')\n",
    "plt.title('NÚMERO DE CLUSTERS X SILHOUETTE SCORE', fontweight='bold')"
   ]
  },
  {
   "cell_type": "code",
   "execution_count": 36,
   "id": "54910300",
   "metadata": {},
   "outputs": [
    {
     "data": {
      "text/plain": [
       "Text(0.5, 1.0, 'NÚMERO DE CLUSTERS X DB INDEX')"
      ]
     },
     "execution_count": 36,
     "metadata": {},
     "output_type": "execute_result"
    },
    {
     "data": {
      "image/png": "[encoded data removed]",
      "text/plain": [
       "<Figure size 1440x576 with 1 Axes>"
      ]
     },
     "metadata": {},
     "output_type": "display_data"
    }
   ],
   "source": [
    "plt.figure(figsize=(20,8))\n",
    "plt.plot(clusters, db_list, linestyle='--', marker='o')\n",
    "plt.xlabel('Número de clusters')\n",
    "plt.ylabel('DB Index')\n",
    "plt.title('NÚMERO DE CLUSTERS X DB INDEX', fontweight='bold')"
   ]
  },
  {
   "cell_type": "markdown",
   "id": "88e5c0a3",
   "metadata": {},
   "source": [
    "# 8.0 MACHINE LEARNING TRAINING"
   ]
  },
  {
   "cell_type": "markdown",
   "id": "504c2c94",
   "metadata": {},
   "source": [
    "# 9.0 CLUSTERING ANALYSIS"
   ]
  },
  {
   "cell_type": "markdown",
   "id": "7bd3b534",
   "metadata": {},
   "source": [
    "# 10.0 EDA - INSIGHT REPORTS"
   ]
  },
  {
   "cell_type": "markdown",
   "id": "1f3d4d9d",
   "metadata": {},
   "source": [
    "# 11.0 DEPLOY TO PRODUCTION"
   ]
  }
 ],
 "metadata": {
  "kernelspec": {
   "display_name": "Python 3 (ipykernel)",
   "language": "python",
   "name": "python3"
  },
  "language_info": {
   "codemirror_mode": {
    "name": "ipython",
    "version": 3
   },
   "file_extension": ".py",
   "mimetype": "text/x-python",
   "name": "python",
   "nbconvert_exporter": "python",
   "pygments_lexer": "ipython3",
   "version": "3.8.12"
  }
 },
 "nbformat": 4,
 "nbformat_minor": 5
}
